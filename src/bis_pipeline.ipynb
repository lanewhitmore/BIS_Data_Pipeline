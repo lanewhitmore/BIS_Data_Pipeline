{
 "cells": [
  {
   "cell_type": "markdown",
   "id": "5735aab7",
   "metadata": {},
   "source": [
    "# Bank International Settlement - Data Pipeline\n",
    "__Team 6 - Lane Whitmore and Dave Friesen__<br>\n",
    "__ADS-507-02-SP23__<br><br>\n",
    "__GitHub link: https://github.com/lanewhitmore/BIS_Data_Pipeline__"
   ]
  },
  {
   "cell_type": "code",
   "execution_count": 1,
   "id": "a18aeaf3",
   "metadata": {},
   "outputs": [],
   "source": [
    "__authors__ = ['Lane Whitmore', 'Dave Friesen']\n",
    "__contact__ = ['lwhitmore@sandiego.edu', 'dfriesen@sandiego.edu']\n",
    "__date__ = '2023-02-04'\n",
    "__license__ = 'MIT'\n",
    "__version__ = '1.0.1'"
   ]
  },
  {
   "cell_type": "markdown",
   "id": "b92239d8",
   "metadata": {},
   "source": [
    "# Setup"
   ]
  },
  {
   "cell_type": "code",
   "execution_count": 15,
   "id": "e8bca98b",
   "metadata": {},
   "outputs": [],
   "source": [
    "# Import basic and data access libraries\n",
    "import numpy as np\n",
    "import pandas as pd\n",
    "from sqlalchemy import create_engine\n",
    "import pymysql\n",
    "pymysql.install_as_MySQLdb()\n",
    "\n",
    "# Import visualization libraries\n",
    "import matplotlib.pyplot as plt\n",
    "import matplotlib.dates as mdates\n",
    "%matplotlib inline\n",
    "\n",
    "# Import utility libraries\n",
    "import urllib\n",
    "import zipfile\n",
    "import logging\n",
    "import os\n",
    "from datetime import datetime\n",
    "import warnings"
   ]
  },
  {
   "cell_type": "code",
   "execution_count": 16,
   "id": "83ee4433",
   "metadata": {},
   "outputs": [],
   "source": [
    "# Set database defaults\n",
    "_host = os.environ.get('HOST')\n",
    "_user = os.environ.get('USER')\n",
    "_port = int(os.environ.get('PORT'))\n",
    "_passwd = os.environ.get('PASSWORD')\n",
    "_db = os.environ.get('DB_NAME')\n",
    "_data_path = os.environ.get('DATA_PATH')"
   ]
  },
  {
   "cell_type": "code",
   "execution_count": 17,
   "id": "5a76d395",
   "metadata": {},
   "outputs": [],
   "source": [
    "# Setup logging\n",
    "logging.basicConfig(filename='pipeline.log', filemode='w', force=True,\n",
    "                   format='%(asctime)s:%(levelname)s:%(message)s')\n",
    "pipeline_log = logging.getLogger('pipeline_log')\n",
    "pipeline_log.setLevel(logging.INFO)"
   ]
  },
  {
   "cell_type": "code",
   "execution_count": 5,
   "id": "c411a138",
   "metadata": {},
   "outputs": [],
   "source": [
    "# Set basic np, pd, and plt output defaults\n",
    "%run -i 'defaults.py'"
   ]
  },
  {
   "cell_type": "markdown",
   "id": "817837d0",
   "metadata": {},
   "source": [
    "# Data Extract and Load"
   ]
  },
  {
   "cell_type": "code",
   "execution_count": 6,
   "id": "07802c99",
   "metadata": {},
   "outputs": [],
   "source": [
    "def ctrl_count(fname):\n",
    "    \"\"\"\n",
    "    Get simple file row count for data load confirmation\n",
    "    \"\"\"\n",
    "    f = open(fname)\n",
    "    count = sum(1 for line in f)\n",
    "    f.close()\n",
    "    return count\n",
    "\n",
    "def download_and_extract_data(url, filename, path):\n",
    "    \"\"\"\n",
    "    Download file from specified URL and extract to specified path;\n",
    "        True if successful, otherwise False\n",
    "    \"\"\"\n",
    "    try:\n",
    "        urllib.request.urlretrieve(url, os.path.join(path, filename))\n",
    "        pipeline_log.info(filename+' retrieved')\n",
    "        with zipfile.ZipFile(os.path.join(path, filename), 'r') as zip:\n",
    "            zip.extractall(path)\n",
    "        pipeline_log.info(filename+' extracted')\n",
    "        return True\n",
    "    except (urllib.error.HTTPError, urllib.error.HTTPException, urllib.error.URLError,\n",
    "            FileNotFoundError, zipfile.BadZipFile, zipfile.LargeZipFile) as e:\n",
    "        pipeline_log.error(f'{filename} error: {e}')\n",
    "        return False\n",
    "    \n",
    "def load_data(filename, path, id_vars):\n",
    "    \"\"\"\n",
    "    Load CSV into dataframe and return ID and value subsets;\n",
    "        This is so that the pivoted values don't repeat all of the IDs unecessarily\n",
    "        Both subsets retain the original index so can be joined that way in further\n",
    "        processing\n",
    "    \"\"\"\n",
    "    df = pd.read_csv(os.path.join(path, filename), on_bad_lines='skip', low_memory=False)\n",
    "    df_ids = df.iloc[:, id_vars]\n",
    "    df_values = df.iloc[:, max(id_vars)+1:]\n",
    "    df_values = df_values.reset_index()\n",
    "    df_values['index'] = df_values['index'] + 1\n",
    "    df_values = pd.melt(df_values, id_vars='index', value_vars=df_values.iloc[:, 1:])\n",
    "    return df, df_ids, df_values"
   ]
  },
  {
   "cell_type": "code",
   "execution_count": 7,
   "id": "54085886",
   "metadata": {},
   "outputs": [],
   "source": [
    "# Define file location\n",
    "url = 'https://www.bis.org/statistics/'\n",
    "\n",
    "# Define dataset details\n",
    "ds = {'exr': {'efname': 'full_xru_csv.zip',  # Name of file at above url\n",
    "              'lfname': 'WS_XRU_csv_col.csv',  # Name of unzipped file\n",
    "              'id_vars': range(0, 17)},  # ID (vs. value) columns\n",
    "      'cp': {'efname': 'full_long_cpi_csv.zip',\n",
    "             'lfname': 'WS_LONG_CPI_csv_col.csv',\n",
    "             'id_vars': range(0, 15)},\n",
    "      'pr': {'efname': 'full_cbpol_m_csv.zip',\n",
    "             'lfname': 'WS_CBPOL_M_csv_col.csv',\n",
    "             'id_vars': range(0, 14)}}\n",
    "\n",
    "# Establish dataframe dictionaries - these are accessible by dataset abbreviation and\n",
    "#   this allows for consistent code with flexibility\n",
    "df = {'exr': None, 'cp': None, 'pr': None}  # To be used for full dataframe\n",
    "df_ids = {'exr': None, 'cp': None, 'pr': None}  # To be used for subset of IDs only\n",
    "df_values = {'exr': None, 'cp': None, 'pr': None}  # To be used for subset of values only\n",
    "\n",
    "# Define download (extract) and load location - In this example, it assumes that the\n",
    "#   default (code) directory is 'src', and that a 'data' directory exists in parallel;\n",
    "#   this can be configured to anything\n",
    "# for now, that is our _data_path Operating System environment"
   ]
  },
  {
   "cell_type": "code",
   "execution_count": 8,
   "id": "45ee6575",
   "metadata": {},
   "outputs": [
    {
     "name": "stdout",
     "output_type": "stream",
     "text": [
      "Processing full_xru_csv.zip... \n",
      "Processing full_long_cpi_csv.zip... \n",
      "Processing full_cbpol_m_csv.zip... \n"
     ]
    }
   ],
   "source": [
    "# Iterate dataset\n",
    "for dataset in ds:\n",
    "    # Show we're doing something\n",
    "    print('Processing '+ds[dataset]['efname'], end='... ')\n",
    "\n",
    "    # Download and extract file; if error, log and skip to next file in dataset\n",
    "    if not download_and_extract_data(url + ds[dataset]['efname'], ds[dataset]['efname'], _data_path):\n",
    "        continue\n",
    "\n",
    "    # Load dataframe\n",
    "    df[dataset], df_ids[dataset], df_values[dataset] = load_data(ds[dataset]['lfname'],\n",
    "                                                                 _data_path, ds[dataset]['id_vars'])\n",
    "\n",
    "    # Confirm control counts\n",
    "    ctrl = ctrl_count(_data_path+ds[dataset]['lfname'])\n",
    "    pipeline_log.info('{0}_file={1}_import={2}_delta={3}'. \\\n",
    "                      format(ds[dataset]['lfname'], ctrl, len(df[dataset]), ctrl-len(df[dataset])))\n",
    "\n",
    "    # If control count is off by more than one row (i.e., assuming header),\n",
    "    #   log as warning\n",
    "    if (ctrl - len(df[dataset])) > 1:\n",
    "        pipeline_log.warning('control total exception')\n",
    "        \n",
    "    print()"
   ]
  },
  {
   "cell_type": "markdown",
   "id": "8a3475b9",
   "metadata": {},
   "source": [
    "# Data Transformation"
   ]
  },
  {
   "cell_type": "code",
   "execution_count": 9,
   "id": "4da455b7",
   "metadata": {},
   "outputs": [],
   "source": [
    "# Renaming key columns to be imported into the schema to make them more workable within MySQL\n",
    "df_ids['exr'] = df_ids['exr'].copy()  # added to avoid SettingWithCopyWarning\n",
    "df_ids['exr'].rename(columns = {'Frequency': 'frequency', 'Reference area': 'reference_area', 'Currency': 'currency', \n",
    "                                'Collection': 'collection', 'Unit Multiplier': 'unit_multiplier', 'DECIMALS': 'decimals',\n",
    "                                'Availability': 'availability', 'TITLE': 'title', 'Series': 'series'}, inplace = True)\n",
    "\n",
    "df_ids['pr'] = df_ids['pr'].copy()  # added to avoid SettingWithCopyWarning\n",
    "df_ids['pr'].rename(columns = {'Frequency': 'frequency', 'DECIMALS': 'decimals', 'SOURCE_REF': 'source_ref', 'SUPP_INFO_BREAKS': 'supp_info_breaks',\n",
    "                               'TITLE': 'title', 'Series': 'series'}, inplace = True)\n",
    "\n",
    "df_ids['cp'] = df_ids['cp'].copy()  # added to avoid SettingWithCopyWarning\n",
    "df_ids['cp'].rename(columns = {'Frequency': 'frequency', 'Reference area': 'reference_area', 'Unit of measure': 'unit_of_measure',\n",
    "                               'Series':'series'}, inplace = True)\n",
    "\n",
    "df_values['exr'].rename(columns = {'index': 'exchange_rate_id', 'variable': 'date'}, inplace = True)\n",
    "df_values['pr'].rename(columns = {'index': 'policy_rate_id', 'variable': 'date'}, inplace = True)\n",
    "df_values['cp'].rename(columns = {'index': 'consumer_prices_id', 'variable': 'date'}, inplace = True)"
   ]
  },
  {
   "cell_type": "code",
   "execution_count": 10,
   "id": "5c62dd02",
   "metadata": {},
   "outputs": [],
   "source": [
    "# Creating connection to local machine // formulas to nest df to \n",
    "def run_connection(db_connection: pymysql, syntax: str) -> None:\n",
    "    \"\"\"\n",
    "    Run Syntax.\n",
    "\n",
    "    :param db_connection: DB connection object. \n",
    "    :param syntax: Syntax for database connection execution.\n",
    "    \"\"\"\n",
    "    cur = db_connection.cursor()\n",
    "    cur.execute(syntax)\n",
    "    cur.close()\n",
    "\n",
    "### Can create a table if need be within notebook\n",
    "def create_table(schema: str, table: str) -> None:\n",
    "    \"\"\"\n",
    "    Create a new table in the connected database on the schema\n",
    "\n",
    "    :param schema: The schema for the table.\n",
    "    :param table: The name of the table within the schema.\n",
    "    \"\"\"\n",
    "    db_conn = pymysql.connect(\n",
    "        host=_host,\n",
    "        user=_user,\n",
    "        port=_port, \n",
    "        passwd=_passwd, \n",
    "        db=_db,\n",
    "    )\n",
    "    run_connection(db_connection=db_conn, syntax=f\"CREATE TABLE IF NOT EXISTS {table}({schema})\")\n",
    "\n",
    "    db_conn.commit()\n",
    "    db_conn.close()\n",
    "\n",
    "# populate the table with new records\n",
    "def populate_table(table_name: str, df: pd.DataFrame) -> None:\n",
    "    \"\"\" \n",
    "    Insert df into table within database\n",
    "\n",
    "    :param table_name: Name of the table within the DB\n",
    "    :param df: df to be inserted into schema/DB\n",
    "    \"\"\"\n",
    "\n",
    "    # Ignore known sqlalchemy warning\n",
    "    warnings.filterwarnings('ignore')    \n",
    "    \n",
    "    db_data = 'mysql+mysqldb://'+os.environ.get(\"USER\")+':'+os.environ['PASSWORD']+'@'+os.environ.get(\"HOST\")+':3306/'+os.environ.get(\"DB_NAME\")+'?charset=utf8mb4'\n",
    "    engine = create_engine(db_data)\n",
    "    db_conn = pymysql.connect(\n",
    "        host=_host,\n",
    "        user=_user,\n",
    "        port=_port, \n",
    "        passwd=_passwd, \n",
    "        db=_db,\n",
    "    )\n",
    "\n",
    "    # connecting to cursor to pull column names in table\n",
    "    cur = db_conn.cursor()\n",
    "    cur.execute(f\"SELECT * FROM {table_name} LIMIT 0\")\n",
    "    cur.close()\n",
    "\n",
    "    # obtaining table column names\n",
    "    col_names = [i[0] for i in cur.description]\n",
    "\n",
    "    # Ensure that updates do not duplicate by syncing table indexes and dataframe indexes\n",
    "    index1 = pd.read_sql(f\"SELECT {table_name}_id FROM {table_name};\", db_conn).index\n",
    "    index2 = df.index\n",
    "    indiff = index2.difference(index1)\n",
    "\n",
    "    # Extracting indexes not seen in table on database\n",
    "    df = df.loc[indiff]\n",
    "\n",
    "    # Setting null value to be set auto incrementally\n",
    "    df[f\"{table_name}_id\"] = np.NaN * len(df.index)\n",
    "\n",
    "    # Identify missing columns\n",
    "    missing_columns = set(col_names).difference(df.columns)\n",
    "\n",
    "    pipeline_log.info(table_name+' population executed')\n",
    "    \n",
    "    if len(missing_columns) > 0:\n",
    "        pipeline_log.error('Missing Columns Critical Error')\n",
    "\n",
    "    # extracting needed columns from dataframes\n",
    "    df = df[col_names]\n",
    "\n",
    "    df.to_sql(table_name, engine, if_exists = 'append', index = False)\n",
    "    db_conn.commit()\n",
    "    engine.dispose()\n",
    "    db_conn.close()\n",
    "\n",
    "    warnings.resetwarnings()"
   ]
  },
  {
   "cell_type": "code",
   "execution_count": 11,
   "id": "954baff5",
   "metadata": {},
   "outputs": [
    {
     "name": "stdout",
     "output_type": "stream",
     "text": [
      "Populating exchange_rate with exr... \n",
      "Populating consumer_prices with cp... \n",
      "Populating policy_rate with pr... \n",
      "Populating exchange_rate_values with exr... \n",
      "Populating consumer_prices_values with cp... \n",
      "Populating policy_rate_values with pr... \n"
     ]
    }
   ],
   "source": [
    "# Table names from Schema for ID\n",
    "table_names = ['exchange_rate','consumer_prices','policy_rate']\n",
    "value_table_names = ['exchange_rate_values','consumer_prices_values','policy_rate_values']\n",
    "\n",
    "for i in zip(df_ids, table_names):\n",
    "    print('Populating ' + i[1] + ' with ' + i[0], end='... ')\n",
    "\n",
    "    populate_table(table_name= i[1], df = df_ids[i[0]])\n",
    "\n",
    "    print()\n",
    "\n",
    "for i in zip(df_values, value_table_names):\n",
    "    print('Populating ' + i[1] + ' with ' + i[0], end='... ')\n",
    "\n",
    "    populate_table(table_name= i[1], df = df_values[i[0]])\n",
    "\n",
    "    print()"
   ]
  },
  {
   "cell_type": "markdown",
   "id": "65a892be",
   "metadata": {},
   "source": [
    "# Data Consumption"
   ]
  },
  {
   "cell_type": "markdown",
   "id": "070956eb",
   "metadata": {},
   "source": [
    "## Establish CPI and Fed Rate Dataframes"
   ]
  },
  {
   "cell_type": "code",
   "execution_count": 12,
   "id": "7ea7450d",
   "metadata": {},
   "outputs": [
    {
     "name": "stdout",
     "output_type": "stream",
     "text": [
      "Creating cpi_df... \n",
      "Creating fedrate_df... \n"
     ]
    }
   ],
   "source": [
    "# Create connection to the MySQL server\n",
    "conn = pymysql.connect(host=_host, user=_user, passwd=_passwd, db=_db)\n",
    "\n",
    "# Filter innocuous sqlalchemy warnings\n",
    "warnings.filterwarnings('ignore')    \n",
    "\n",
    "# Create Consumer Price Index (CPI) dataframe for select time frame\n",
    "# NOTE one thing this doesn't currently do is determine 'percent' dynamically. . .\n",
    "q = 'SELECT \\\n",
    "        cp.reference_area AS cp_reference_area \\\n",
    "        , cpv.date AS cpv_date \\\n",
    "        , cpv.value AS cpv_value \\\n",
    "    FROM consumer_prices cp \\\n",
    "    INNER JOIN consumer_prices_values cpv ON cp.consumer_prices_id = cpv.consumer_prices_id \\\n",
    "    WHERE \\\n",
    "        cp.reference_area LIKE \\'United States%\\' \\\n",
    "        AND cp.frequency = \\'Monthly\\' \\\n",
    "        AND cp.unit_of_measure = \\'Year-on-year changes, in per cent\\' \\\n",
    "        AND LENGTH(cpv.date) = 7 \\\n",
    "        AND CAST(SUBSTR(cpv.date, 1, 4) AS UNSIGNED) BETWEEN 1980 AND 2022 \\\n",
    "    ORDER BY 2, 3;'\n",
    "print('Creating cpi_df', end='... ')\n",
    "try:\n",
    "    cpi_df = pd.read_sql(q, conn)\n",
    "    cpi_df['cpv_date'] = pd.to_datetime(cpi_df['cpv_date'])\n",
    "    pipeline_log.info('cpi_df created')\n",
    "except Exception as e:\n",
    "    pipeline_log.error(f'cpi_df error: {e}')\n",
    "print()\n",
    "\n",
    "# Create US Fed Rate dataframe for same time frame as CPI above\n",
    "q = 'SELECT \\\n",
    "        prv.date AS prv_date \\\n",
    "        , prv.value AS prv_value \\\n",
    "    FROM policy_rate pr \\\n",
    "    INNER JOIN policy_rate_values prv ON pr.policy_rate_id = prv.policy_rate_id \\\n",
    "    WHERE \\\n",
    "        pr.source_ref = \\'US Federal Reserve System\\' \\\n",
    "        AND pr.frequency = \\'Monthly\\' \\\n",
    "        AND LENGTH(prv.date) = 7 \\\n",
    "        AND CAST(SUBSTR(prv.date, 1, 4) AS UNSIGNED) BETWEEN 1980 AND 2022 \\\n",
    "    ORDER BY 1, 2;'\n",
    "print('Creating fedrate_df', end='... ')\n",
    "try:\n",
    "    fedrate_df = pd.read_sql(q, conn)\n",
    "    fedrate_df['prv_date'] = pd.to_datetime(fedrate_df['prv_date'])\n",
    "    pipeline_log.info('fedrate_df created')\n",
    "except Exception as e:\n",
    "    pipeline_log.error(f'fedrate_df error: {e}')\n",
    "print()\n",
    "\n",
    "# Close MySQL connection\n",
    "conn.close()\n",
    "\n",
    "# Reset warnings to default\n",
    "warnings.resetwarnings()"
   ]
  },
  {
   "cell_type": "markdown",
   "id": "58378b7d",
   "metadata": {},
   "source": [
    "## Perform Basic Time Series Analysis - CPI and Fed Rate"
   ]
  },
  {
   "cell_type": "code",
   "execution_count": 13,
   "id": "dd1969ab",
   "metadata": {},
   "outputs": [
    {
     "data": {
      "image/png": "[encoded data removed]",
      "text/plain": [
       "<Figure size 750x421.875 with 1 Axes>"
      ]
     },
     "metadata": {},
     "output_type": "display_data"
    }
   ],
   "source": [
    "# Plot ratings and film counts\n",
    "fig, ax = plt.subplots()\n",
    "ax.plot(cpi_df['cpv_date'], cpi_df['cpv_value'].rolling(window=3).mean(), label='CPI (Q-smoothed)')\n",
    "ax.plot(fedrate_df['prv_date'], fedrate_df['prv_value'].rolling(window=3).mean(), label='Fed Rate (Q-smoothed)')\n",
    "\n",
    "# Set plot titles, axis labels, and legend\n",
    "plt.title('US Inflation vs. Federal Discount Rate - 1980 to present')\n",
    "plt.xlabel('Date')\n",
    "plt.ylabel('Percent')\n",
    "ax.set_xlim(cpi_df['cpv_date'].min(), cpi_df['cpv_date'].max() + pd.DateOffset(years=10))\n",
    "ax.xaxis.set_major_locator(mdates.YearLocator(5))\n",
    "ax.xaxis.set_major_formatter(mdates.DateFormatter('%Y'))\n",
    "ax.axvline(x=cpi_df['cpv_date'].max(), color='lightgray', linestyle='dashed', lw=1.5)\n",
    "plt.legend()\n",
    "\n",
    "# Show plot and save it for e.g., dashboard or Web\n",
    "plt.show()\n",
    "fig.savefig('CPI_v_FedRate.svg', format='svg')\n",
    "\n",
    "pipeline_log.info('CPI_v_FedRate generated')"
   ]
  },
  {
   "cell_type": "code",
   "execution_count": 18,
   "id": "ff32987b",
   "metadata": {},
   "outputs": [
    {
     "name": "stdout",
     "output_type": "stream",
     "text": [
      "Creating usd_to_can data frame... \n",
      "Creating usd_to_chi data frame... \n",
      "Creating usd_to_ja data frame... \n",
      "Creating usd_to_uk data frame... \n",
      "Creating usd_to_mex data frame... \n"
     ]
    }
   ],
   "source": [
    "# establish pymysql connection\n",
    "conn = pymysql.connect(host=_host, user=_user, passwd=_passwd, db=_db)\n",
    "\n",
    "# Filter innocuous sqlalchemy warnings\n",
    "warnings.filterwarnings('ignore')\n",
    "\n",
    "view1q = \"SELECT currency, collection, unit_multiplier, availability, title, series, date, exchange_rate FROM usd_to_canada WHERE date > 1970;\"\n",
    "\n",
    "view2q = \"SELECT currency, collection, unit_multiplier, availability, title, series, date, exchange_rate FROM usd_to_china WHERE date > 1970;\"\n",
    "\n",
    "view3q = \"SELECT currency, collection, unit_multiplier, availability, title, series, date, exchange_rate FROM usd_to_japan WHERE date > 1970;\"\n",
    "\n",
    "view4q = \"SELECT currency, collection, unit_multiplier, availability, title, series, date, exchange_rate FROM usd_to_mexico WHERE date > 1970;\"\n",
    "\n",
    "view5q = \"SELECT currency, collection, unit_multiplier, availability, title, series, date, exchange_rate FROM usd_to_uk WHERE date > 1970;\"\n",
    "\n",
    "# Creating data frames that are defined by the views where date is greater than 1900\n",
    "print('Creating usd_to_can data frame', end='... ')\n",
    "try:\n",
    "    usd_to_can = pd.read_sql(view1q, conn)\n",
    "    usd_to_can['date'] = pd.to_datetime(usd_to_can['date'])\n",
    "    pipeline_log.info('usd_to_can data frame created')\n",
    "except Exception as e:\n",
    "    pipeline_log.error(f'usd_to_can data frame error: {e}')\n",
    "print()\n",
    "\n",
    "print('Creating usd_to_chi data frame', end='... ')\n",
    "try:\n",
    "    usd_to_chi = pd.read_sql(view2q, conn)\n",
    "    usd_to_chi['date'] = pd.to_datetime(usd_to_chi['date'])\n",
    "    pipeline_log.info('usd_to_chi data frame created')\n",
    "except Exception as e:\n",
    "    pipeline_log.error(f'usd_to_chi data frame error: {e}')\n",
    "print()\n",
    "\n",
    "print('Creating usd_to_ja data frame', end='... ')\n",
    "try:\n",
    "    usd_to_ja = pd.read_sql(view3q, conn)\n",
    "    usd_to_ja['date'] = pd.to_datetime(usd_to_ja['date'])\n",
    "    pipeline_log.info('usd_to_ja data frame created')\n",
    "except Exception as e:\n",
    "    pipeline_log.error(f'usd_to_ja data frame error: {e}')\n",
    "print()\n",
    "\n",
    "print('Creating usd_to_uk data frame', end='... ')\n",
    "try:\n",
    "    usd_to_uk = pd.read_sql(view5q, conn)\n",
    "    usd_to_uk['date'] = pd.to_datetime(usd_to_uk['date'])\n",
    "    pipeline_log.info('usd_to_uk data frame created')\n",
    "except Exception as e:\n",
    "    pipeline_log.error(f'usd_to_uk data frame error: {e}')\n",
    "print()\n",
    "\n",
    "print('Creating usd_to_mex data frame', end='... ')\n",
    "try:\n",
    "    usd_to_mex = pd.read_sql(view4q, conn)\n",
    "    usd_to_mex['date'] = pd.to_datetime(usd_to_mex['date'])\n",
    "    pipeline_log.info('usd_to_mex data frame created')\n",
    "except Exception as e:\n",
    "    pipeline_log.error(f'usd_to_mex data frame error: {e}')\n",
    "print()\n",
    "\n",
    "# Close MySQL connection\n",
    "conn.close()\n",
    "\n",
    "# Reset warnings to default\n",
    "warnings.resetwarnings()"
   ]
  },
  {
   "cell_type": "code",
   "execution_count": 19,
   "id": "67af9cbe",
   "metadata": {},
   "outputs": [
    {
     "name": "stdout",
     "output_type": "stream",
     "text": [
      "Plotting USD_Exchange_rates... "
     ]
    },
    {
     "data": {
      "image/png": "[encoded data removed]",
      "text/plain": [
       "<Figure size 432x288 with 1 Axes>"
      ]
     },
     "metadata": {
      "needs_background": "light"
     },
     "output_type": "display_data"
    }
   ],
   "source": [
    "print('Plotting USD_Exchange_rates', end='... ')\n",
    "\n",
    "# Plot date and exchange rate\n",
    "fig, ax = plt.subplots()\n",
    "ax.plot(usd_to_can['date'], usd_to_can['exchange_rate'].rolling(window=3).mean(), label='USD to Canadian Dollar (Q-smoothed)')\n",
    "ax.plot(usd_to_mex['date'], usd_to_mex['exchange_rate'].rolling(window=3).mean(), label='USD to Mexican Peso (Q-smoothed)')\n",
    "\n",
    "plt.title('USD Exchange Rate with North American - 1970 to present')\n",
    "plt.xlabel('Date')\n",
    "plt.ylabel('Exchange Rate')\n",
    "ax.set_xlim(usd_to_can['date'].min(), usd_to_can['date'].max() + pd.DateOffset(years=10))\n",
    "ax.xaxis.set_major_locator(mdates.YearLocator(5))\n",
    "ax.xaxis.set_major_formatter(mdates.DateFormatter('%Y'))\n",
    "ax.axvline(x=usd_to_can['date'].max(), color='lightgray', linestyle='dashed', lw=1.5)\n",
    "plt.legend()\n",
    "\n",
    "# save plot for e.g., dashboard or Web\n",
    "plt.show()\n",
    "fig.savefig('USD_Exchange_rates.svg', format='svg')\n",
    "\n",
    "pipeline_log.info('USD_Exchange_rates generated')"
   ]
  },
  {
   "cell_type": "code",
   "execution_count": 20,
   "id": "ffdbf3aa",
   "metadata": {},
   "outputs": [
    {
     "name": "stdout",
     "output_type": "stream",
     "text": [
      "Plotting USD_Exchange_rates_int... "
     ]
    },
    {
     "data": {
      "image/png": "[encoded data removed]",
      "text/plain": [
       "<Figure size 432x288 with 1 Axes>"
      ]
     },
     "metadata": {
      "needs_background": "light"
     },
     "output_type": "display_data"
    }
   ],
   "source": [
    "print('Plotting USD_Exchange_rates_int', end='... ')\n",
    "fig, ax = plt.subplots()\n",
    "ax.plot(usd_to_chi['date'], usd_to_chi['exchange_rate'].rolling(window=3).mean(), label='USD to Chinese Yuan (Q-smoothed)')\n",
    "ax.plot(usd_to_ja['date'], usd_to_ja['exchange_rate'].rolling(window=3).mean(), label='USD to Japanese Yen (Q-smoothed)')\n",
    "ax.plot(usd_to_uk['date'], usd_to_uk['exchange_rate'].rolling(window=3).mean(), label='USD to UK Pound Sterling (Q-smoothed)')\n",
    "\n",
    "plt.title('USD Exchange Rate with Other Countries - 1970 to present')\n",
    "plt.xlabel('Date')\n",
    "plt.ylabel('Exchange Rate')\n",
    "ax.set_xlim(usd_to_uk['date'].min(), usd_to_uk['date'].max() + pd.DateOffset(years=10))\n",
    "ax.xaxis.set_major_locator(mdates.YearLocator(5))\n",
    "ax.xaxis.set_major_formatter(mdates.DateFormatter('%Y'))\n",
    "ax.axvline(x=usd_to_uk['date'].max(), color='lightgray', linestyle='dashed', lw=1.5)\n",
    "plt.legend()\n",
    "\n",
    "# save plot for e.g., dashboard or Web\n",
    "plt.show()\n",
    "fig.savefig('USD_Exchange_rates_int.svg', format='svg')\n",
    "\n",
    "pipeline_log.info('USD_Exchange_rates_int generated')"
   ]
  },
  {
   "cell_type": "markdown",
   "id": "aa8ef711",
   "metadata": {},
   "source": [
    "# Wrap-up"
   ]
  },
  {
   "cell_type": "code",
   "execution_count": 14,
   "id": "1673079e",
   "metadata": {},
   "outputs": [],
   "source": [
    "# Cleanly close logging\n",
    "logging.shutdown()"
   ]
  },
  {
   "cell_type": "code",
   "execution_count": null,
   "id": "4303cbbe",
   "metadata": {},
   "outputs": [],
   "source": []
  }
 ],
 "metadata": {
  "kernelspec": {
   "display_name": "Python 3 (ipykernel)",
   "language": "python",
   "name": "python3"
  },
  "language_info": {
   "codemirror_mode": {
    "name": "ipython",
    "version": 3
   },
   "file_extension": ".py",
   "mimetype": "text/x-python",
   "name": "python",
   "nbconvert_exporter": "python",
   "pygments_lexer": "ipython3",
   "version": "3.9.7"
  },
  "vscode": {
   "interpreter": {
    "hash": "8cb2049e208c6bf0fac27c261f11ec8b9897a816645b496ab018a24a4816c86d"
   }
  }
 },
 "nbformat": 4,
 "nbformat_minor": 5
}
